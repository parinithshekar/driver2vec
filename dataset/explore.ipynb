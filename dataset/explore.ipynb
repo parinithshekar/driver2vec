{
 "cells": [
  {
   "cell_type": "code",
   "execution_count": 2,
   "id": "901e573b",
   "metadata": {},
   "outputs": [],
   "source": [
    "import pandas as pd\n",
    "import numpy as np"
   ]
  },
  {
   "cell_type": "code",
   "execution_count": 6,
   "id": "662fd5d8",
   "metadata": {},
   "outputs": [
    {
     "name": "stdout",
     "output_type": "stream",
     "text": [
      "31\n",
      "Index(['ACCELERATION', 'ACCELERATION_PEDAL', 'ACCELERATION_Y',\n",
      "       'ACCELERATION_Z', 'BRAKE_PEDAL', 'CLUTCH_PEDAL', 'CURVE_RADIUS',\n",
      "       'DISTANCE', 'DISTANCE_TO_NEXT_INTERSECTION',\n",
      "       'DISTANCE_TO_NEXT_STOP_SIGNAL', 'DISTANCE_TO_NEXT_TRAFFIC_LIGHT_SIGNAL',\n",
      "       'DISTANCE_TO_NEXT_VEHICLE', 'DISTANCE_TO_NEXT_YIELD_SIGNAL',\n",
      "       'FAST_LANE', 'GEARBOX', 'HEADING', 'HORN', 'INDICATORS',\n",
      "       'INDICATORS_ON_INTERSECTION', 'LANE', 'LANE_LATERAL_SHIFT_CENTER',\n",
      "       'LANE_LATERAL_SHIFT_LEFT', 'LANE_LATERAL_SHIFT_RIGHT', 'LANE_WIDTH',\n",
      "       'ROAD_ANGLE', 'SPEED', 'SPEED_LIMIT', 'SPEED_NEXT_VEHICLE', 'SPEED_Y',\n",
      "       'SPEED_Z', 'STEERING_WHEEL'],\n",
      "      dtype='object')\n"
     ]
    }
   ],
   "source": [
    "x = pd.read_csv(\"./sample_data/user_0001/user_0001_highway.csv\")\n",
    "# Remove empty column which is the index\n",
    "x = x.drop(columns=[\"Unnamed: 0\"])\n",
    "x = x.drop(columns=['FOG', 'FOG_LIGHTS', 'FRONT_WIPERS','HEAD_LIGHTS','RAIN', 'REAR_WIPERS', 'SNOW'])\n",
    "print(len(x.columns))\n",
    "print(x.columns)"
   ]
  }
 ],
 "metadata": {
  "kernelspec": {
   "display_name": "3.10.2",
   "language": "python",
   "name": "3.10.2"
  },
  "language_info": {
   "codemirror_mode": {
    "name": "ipython",
    "version": 3
   },
   "file_extension": ".py",
   "mimetype": "text/x-python",
   "name": "python",
   "nbconvert_exporter": "python",
   "pygments_lexer": "ipython3",
   "version": "3.10.2"
  }
 },
 "nbformat": 4,
 "nbformat_minor": 5
}
